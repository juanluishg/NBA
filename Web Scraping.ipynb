{
 "cells": [
  {
   "cell_type": "code",
   "execution_count": 33,
   "metadata": {},
   "outputs": [],
   "source": [
    "from bs4 import BeautifulSoup\n",
    "import requests\n",
    "from selenium import webdriver\n",
    "from selenium.webdriver.common.by import By\n",
    "from selenium.webdriver.support.ui import WebDriverWait\n",
    "from selenium.webdriver.support import expected_conditions as EC"
   ]
  },
  {
   "cell_type": "code",
   "execution_count": 34,
   "metadata": {},
   "outputs": [],
   "source": [
    "options = webdriver.ChromeOptions()\n",
    "options.add_argument('--ignore-certificate-errors')\n",
    "options.add_argument('--incognito')\n",
    "options.add_argument('--headless')\n",
    "driver = webdriver.Chrome(\"C:\\src\\chromedriver.exe\", options=options)"
   ]
  },
  {
   "cell_type": "code",
   "execution_count": 25,
   "metadata": {
    "scrolled": false
   },
   "outputs": [],
   "source": [
    "import time\n",
    "\n",
    "driver.get(\"https://es.global.nba.com/players/stats/#!/fred_vanvleet\")\n",
    "page_source = driver.page_source\n",
    "with open('page.txt', 'w', encoding='utf-8') as p:\n",
    "    p.write(page_source)"
   ]
  },
  {
   "cell_type": "code",
   "execution_count": 3,
   "metadata": {},
   "outputs": [
    {
     "name": "stdout",
     "output_type": "stream",
     "text": [
      "Element Load\n",
      "Going to write\n",
      "Page is ready!\n"
     ]
    }
   ],
   "source": [
    "from selenium import webdriver\n",
    "from selenium.webdriver.support.ui import WebDriverWait\n",
    "from selenium.webdriver.support import expected_conditions as EC\n",
    "from selenium.webdriver.common.by import By\n",
    "from selenium.common.exceptions import TimeoutException\n",
    "\n",
    "browser = webdriver.Chrome(\"C:\\src\\chromedriver.exe\")\n",
    "browser.get(\"https://stats.nba.com/search/player-game/#?CF=PTS*gt*0&Season=2019-20&sort=GAME_DATE&dir=1\")\n",
    "delay = 10000 # seconds\n",
    "try:\n",
    "    myElem = WebDriverWait(browser, timeout=60).until(EC.presence_of_element_located((By.CLASS_NAME, 'player-name')))\n",
    "    print(\"Element Load\")\n",
    "    with open('page.txt', 'w', encoding='utf-8') as p:\n",
    "        print(\"Going to write\")\n",
    "        page_source = browser.page_source\n",
    "        p.write(page_source)\n",
    "    print (\"Page is ready!\")\n",
    "except TimeoutException:\n",
    "    print (\"Loading took too much time!\")"
   ]
  },
  {
   "cell_type": "code",
   "execution_count": null,
   "metadata": {},
   "outputs": [],
   "source": []
  }
 ],
 "metadata": {
  "kernelspec": {
   "display_name": "Python 3",
   "language": "python",
   "name": "python3"
  }
 },
 "nbformat": 4,
 "nbformat_minor": 4
}
